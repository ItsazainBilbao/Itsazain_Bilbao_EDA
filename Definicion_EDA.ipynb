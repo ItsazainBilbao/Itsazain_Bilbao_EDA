{
 "cells": [
  {
   "cell_type": "markdown",
   "metadata": {},
   "source": [
    "![imagen](./img/ejercicios.png)"
   ]
  },
  {
   "cell_type": "markdown",
   "metadata": {},
   "source": [
    "# INFORMACIÓN DEL PROYECTO"
   ]
  },
  {
   "cell_type": "markdown",
   "metadata": {},
   "source": [
    "### Análisis de la relevancia de las nuevas ediciones en la salud del formato Commander en MtG"
   ]
  },
  {
   "cell_type": "code",
   "execution_count": 1,
   "metadata": {},
   "outputs": [],
   "source": [
    "#Escribe el título del proyecto en Markdown\n",
    "titulo = \"Análisis de la relevancia de las nuevas ediciones en la salud del formato Commander en MtG\""
   ]
  },
  {
   "cell_type": "markdown",
   "metadata": {},
   "source": [
    "### TEMA"
   ]
  },
  {
   "cell_type": "code",
   "execution_count": 2,
   "metadata": {},
   "outputs": [],
   "source": [
    "# Describe brevemente el tema del proyecto en Markdown\n",
    "tema = \"Mediante el análisis de las cartas de cada mazo por edición, concluir si las cartas de ediciones más recientes son capaces\" \\\n",
    "\"de encontrar hueco entre las que llevan ya décadas asentadas o sustituírlas.\""
   ]
  },
  {
   "cell_type": "markdown",
   "metadata": {},
   "source": [
    "### HIPÓTESIS"
   ]
  },
  {
   "cell_type": "markdown",
   "metadata": {},
   "source": [
    "Define aquí lo que será la hipótesis de tu proyecto.\n",
    "Deberás tener más de una, pero tu proyecto lo harás teniendo una principal hipótesis."
   ]
  },
  {
   "cell_type": "code",
   "execution_count": 3,
   "metadata": {},
   "outputs": [],
   "source": [
    "# Escribe tu hipótesis principal en Markdown\n",
    "hipotesis_1 = \"¿Hay cartas de las últimas ediciones entre las populares de las últimas semanas/años?\""
   ]
  },
  {
   "cell_type": "code",
   "execution_count": 4,
   "metadata": {},
   "outputs": [],
   "source": [
    "# Escribe más hipótesis si las hubiera en Markdown\n",
    "hipotesis_2 = \"¿Los mazos van añadiendo cartas nuevas a su lista?\"\n",
    "hipotesis_3 = \"¿Los mazos competitivos se actualizan con las cartas nuevas?\"\n",
    "hipotesis_4 = \"Ratio de cartas usadas por cartas publicadas en la edición\"\n",
    "# hipotesis_5 = \"\"\n",
    "# ...\n"
   ]
  },
  {
   "cell_type": "markdown",
   "metadata": {},
   "source": [
    "## OBTENCIÓN DE LOS DATOS"
   ]
  },
  {
   "cell_type": "markdown",
   "metadata": {},
   "source": [
    "### DATASETS Y FUENTES ALTERNATIVAS DE DATOS"
   ]
  },
  {
   "cell_type": "markdown",
   "metadata": {},
   "source": [
    "Incluye aquí una vista del dataset o datasets de los que partirás para poder evaluar tu hipótesis. <br>\n",
    "También incluye el origen de estos datos y su fuente."
   ]
  },
  {
   "cell_type": "code",
   "execution_count": 1,
   "metadata": {},
   "outputs": [],
   "source": [
    "import matplotlib.pyplot as plt\n",
    "import seaborn as sns\n",
    "import pandas as pd\n",
    "from src import edhrec_requests as edh"
   ]
  },
  {
   "cell_type": "code",
   "execution_count": 2,
   "metadata": {},
   "outputs": [],
   "source": [
    "# Esta es la base de datos de cartas de la cual sacaré los sets y cuando se publicaron.\n",
    "df_1 = pd.read_csv(\"cartas_limpiadas.csv\")\n",
    "fuente_1 = \"https://api.scryfall.com/bulk-data\"\n",
    "#Estos son directamente fuentes de las cuales copiaré las listas de cartas, procesaré y luego usaré para el análisis.\n",
    "df_2 = edh.load_decks_from_folder2(\"mazos/kinnan\")\n",
    "fuente_2 = \"https://edhrec.com/\"\n",
    "df_3 = pd.DataFrame()\n",
    "fuente_3 = \"https://moxfield.com/\"\n",
    "df_4 = pd.DataFrame()\n",
    "fuente_5 = \"https://edhtop16.com/\"\n",
    "#Saco los datos en un txt y luego los proceso para volverlos un df\n"
   ]
  },
  {
   "cell_type": "markdown",
   "metadata": {},
   "source": [
    "Muestra mediante un head() los principales datasets con los que vas a trabajar"
   ]
  },
  {
   "cell_type": "code",
   "execution_count": 3,
   "metadata": {},
   "outputs": [
    {
     "data": {
      "application/vnd.microsoft.datawrangler.viewer.v0+json": {
       "columns": [
        {
         "name": "index",
         "rawType": "int64",
         "type": "integer"
        },
        {
         "name": "name",
         "rawType": "object",
         "type": "string"
        },
        {
         "name": "type_line",
         "rawType": "object",
         "type": "string"
        },
        {
         "name": "set",
         "rawType": "object",
         "type": "string"
        },
        {
         "name": "set_name",
         "rawType": "object",
         "type": "string"
        },
        {
         "name": "released_at",
         "rawType": "object",
         "type": "string"
        },
        {
         "name": "rarity",
         "rawType": "object",
         "type": "string"
        },
        {
         "name": "reprint",
         "rawType": "bool",
         "type": "boolean"
        },
        {
         "name": "edhrec_rank",
         "rawType": "float64",
         "type": "float"
        },
        {
         "name": "legalities",
         "rawType": "object",
         "type": "string"
        },
        {
         "name": "cmc",
         "rawType": "float64",
         "type": "float"
        },
        {
         "name": "eur",
         "rawType": "float64",
         "type": "float"
        },
        {
         "name": "release_year",
         "rawType": "int64",
         "type": "integer"
        }
       ],
       "conversionMethod": "pd.DataFrame",
       "ref": "f140cd1e-2760-4ec9-a7c8-4d5f5b73871e",
       "rows": [
        [
         "0",
         "Jade Statue",
         "Artifact",
         "lea",
         "Limited Edition Alpha",
         "1993-08-05",
         "uncommon",
         "False",
         "26957.0",
         "{'standard': 'not_legal', 'future': 'not_legal', 'historic': 'not_legal', 'timeless': 'not_legal', 'gladiator': 'not_legal', 'pioneer': 'not_legal', 'explorer': 'not_legal', 'modern': 'legal', 'legacy': 'legal', 'pauper': 'not_legal', 'vintage': 'legal', 'penny': 'legal', 'commander': 'legal', 'oathbreaker': 'legal', 'standardbrawl': 'not_legal', 'brawl': 'not_legal', 'alchemy': 'not_legal', 'paupercommander': 'not_legal', 'duel': 'legal', 'oldschool': 'legal', 'premodern': 'not_legal', 'predh': 'legal'}",
         "4.0",
         "232.12",
         "1993"
        ],
        [
         "1",
         "Plateau",
         "Land — Mountain Plains",
         "lea",
         "Limited Edition Alpha",
         "1993-08-05",
         "rare",
         "False",
         "478.0",
         "{'standard': 'not_legal', 'future': 'not_legal', 'historic': 'not_legal', 'timeless': 'not_legal', 'gladiator': 'not_legal', 'pioneer': 'not_legal', 'explorer': 'not_legal', 'modern': 'not_legal', 'legacy': 'legal', 'pauper': 'not_legal', 'vintage': 'legal', 'penny': 'not_legal', 'commander': 'legal', 'oathbreaker': 'legal', 'standardbrawl': 'not_legal', 'brawl': 'not_legal', 'alchemy': 'not_legal', 'paupercommander': 'not_legal', 'duel': 'legal', 'oldschool': 'legal', 'premodern': 'not_legal', 'predh': 'legal'}",
         "0.0",
         "3273.87",
         "1993"
        ],
        [
         "2",
         "Disintegrate",
         "Sorcery",
         "lea",
         "Limited Edition Alpha",
         "1993-08-05",
         "common",
         "False",
         "14350.0",
         "{'standard': 'not_legal', 'future': 'not_legal', 'historic': 'not_legal', 'timeless': 'not_legal', 'gladiator': 'not_legal', 'pioneer': 'not_legal', 'explorer': 'not_legal', 'modern': 'legal', 'legacy': 'legal', 'pauper': 'legal', 'vintage': 'legal', 'penny': 'legal', 'commander': 'legal', 'oathbreaker': 'legal', 'standardbrawl': 'not_legal', 'brawl': 'not_legal', 'alchemy': 'not_legal', 'paupercommander': 'legal', 'duel': 'legal', 'oldschool': 'legal', 'premodern': 'legal', 'predh': 'legal'}",
         "1.0",
         "16.08",
         "1993"
        ],
        [
         "3",
         "White Ward",
         "Enchantment — Aura",
         "lea",
         "Limited Edition Alpha",
         "1993-08-05",
         "uncommon",
         "False",
         "23321.0",
         "{'standard': 'not_legal', 'future': 'not_legal', 'historic': 'not_legal', 'timeless': 'not_legal', 'gladiator': 'not_legal', 'pioneer': 'not_legal', 'explorer': 'not_legal', 'modern': 'not_legal', 'legacy': 'legal', 'pauper': 'not_legal', 'vintage': 'legal', 'penny': 'not_legal', 'commander': 'legal', 'oathbreaker': 'legal', 'standardbrawl': 'not_legal', 'brawl': 'not_legal', 'alchemy': 'not_legal', 'paupercommander': 'not_legal', 'duel': 'legal', 'oldschool': 'legal', 'premodern': 'legal', 'predh': 'legal'}",
         "1.0",
         "35.67",
         "1993"
        ],
        [
         "4",
         "Sinkhole",
         "Sorcery",
         "lea",
         "Limited Edition Alpha",
         "1993-08-05",
         "common",
         "False",
         "16502.0",
         "{'standard': 'not_legal', 'future': 'not_legal', 'historic': 'not_legal', 'timeless': 'not_legal', 'gladiator': 'not_legal', 'pioneer': 'not_legal', 'explorer': 'not_legal', 'modern': 'not_legal', 'legacy': 'legal', 'pauper': 'banned', 'vintage': 'legal', 'penny': 'not_legal', 'commander': 'legal', 'oathbreaker': 'legal', 'standardbrawl': 'not_legal', 'brawl': 'not_legal', 'alchemy': 'not_legal', 'paupercommander': 'legal', 'duel': 'legal', 'oldschool': 'legal', 'premodern': 'not_legal', 'predh': 'legal'}",
         "2.0",
         "83.9",
         "1993"
        ]
       ],
       "shape": {
        "columns": 12,
        "rows": 5
       }
      },
      "text/html": [
       "<div>\n",
       "<style scoped>\n",
       "    .dataframe tbody tr th:only-of-type {\n",
       "        vertical-align: middle;\n",
       "    }\n",
       "\n",
       "    .dataframe tbody tr th {\n",
       "        vertical-align: top;\n",
       "    }\n",
       "\n",
       "    .dataframe thead th {\n",
       "        text-align: right;\n",
       "    }\n",
       "</style>\n",
       "<table border=\"1\" class=\"dataframe\">\n",
       "  <thead>\n",
       "    <tr style=\"text-align: right;\">\n",
       "      <th></th>\n",
       "      <th>name</th>\n",
       "      <th>type_line</th>\n",
       "      <th>set</th>\n",
       "      <th>set_name</th>\n",
       "      <th>released_at</th>\n",
       "      <th>rarity</th>\n",
       "      <th>reprint</th>\n",
       "      <th>edhrec_rank</th>\n",
       "      <th>legalities</th>\n",
       "      <th>cmc</th>\n",
       "      <th>eur</th>\n",
       "      <th>release_year</th>\n",
       "    </tr>\n",
       "  </thead>\n",
       "  <tbody>\n",
       "    <tr>\n",
       "      <th>0</th>\n",
       "      <td>Jade Statue</td>\n",
       "      <td>Artifact</td>\n",
       "      <td>lea</td>\n",
       "      <td>Limited Edition Alpha</td>\n",
       "      <td>1993-08-05</td>\n",
       "      <td>uncommon</td>\n",
       "      <td>False</td>\n",
       "      <td>26957.0</td>\n",
       "      <td>{'standard': 'not_legal', 'future': 'not_legal...</td>\n",
       "      <td>4.0</td>\n",
       "      <td>232.12</td>\n",
       "      <td>1993</td>\n",
       "    </tr>\n",
       "    <tr>\n",
       "      <th>1</th>\n",
       "      <td>Plateau</td>\n",
       "      <td>Land — Mountain Plains</td>\n",
       "      <td>lea</td>\n",
       "      <td>Limited Edition Alpha</td>\n",
       "      <td>1993-08-05</td>\n",
       "      <td>rare</td>\n",
       "      <td>False</td>\n",
       "      <td>478.0</td>\n",
       "      <td>{'standard': 'not_legal', 'future': 'not_legal...</td>\n",
       "      <td>0.0</td>\n",
       "      <td>3273.87</td>\n",
       "      <td>1993</td>\n",
       "    </tr>\n",
       "    <tr>\n",
       "      <th>2</th>\n",
       "      <td>Disintegrate</td>\n",
       "      <td>Sorcery</td>\n",
       "      <td>lea</td>\n",
       "      <td>Limited Edition Alpha</td>\n",
       "      <td>1993-08-05</td>\n",
       "      <td>common</td>\n",
       "      <td>False</td>\n",
       "      <td>14350.0</td>\n",
       "      <td>{'standard': 'not_legal', 'future': 'not_legal...</td>\n",
       "      <td>1.0</td>\n",
       "      <td>16.08</td>\n",
       "      <td>1993</td>\n",
       "    </tr>\n",
       "    <tr>\n",
       "      <th>3</th>\n",
       "      <td>White Ward</td>\n",
       "      <td>Enchantment — Aura</td>\n",
       "      <td>lea</td>\n",
       "      <td>Limited Edition Alpha</td>\n",
       "      <td>1993-08-05</td>\n",
       "      <td>uncommon</td>\n",
       "      <td>False</td>\n",
       "      <td>23321.0</td>\n",
       "      <td>{'standard': 'not_legal', 'future': 'not_legal...</td>\n",
       "      <td>1.0</td>\n",
       "      <td>35.67</td>\n",
       "      <td>1993</td>\n",
       "    </tr>\n",
       "    <tr>\n",
       "      <th>4</th>\n",
       "      <td>Sinkhole</td>\n",
       "      <td>Sorcery</td>\n",
       "      <td>lea</td>\n",
       "      <td>Limited Edition Alpha</td>\n",
       "      <td>1993-08-05</td>\n",
       "      <td>common</td>\n",
       "      <td>False</td>\n",
       "      <td>16502.0</td>\n",
       "      <td>{'standard': 'not_legal', 'future': 'not_legal...</td>\n",
       "      <td>2.0</td>\n",
       "      <td>83.90</td>\n",
       "      <td>1993</td>\n",
       "    </tr>\n",
       "  </tbody>\n",
       "</table>\n",
       "</div>"
      ],
      "text/plain": [
       "           name               type_line  set               set_name  \\\n",
       "0   Jade Statue                Artifact  lea  Limited Edition Alpha   \n",
       "1       Plateau  Land — Mountain Plains  lea  Limited Edition Alpha   \n",
       "2  Disintegrate                 Sorcery  lea  Limited Edition Alpha   \n",
       "3    White Ward      Enchantment — Aura  lea  Limited Edition Alpha   \n",
       "4      Sinkhole                 Sorcery  lea  Limited Edition Alpha   \n",
       "\n",
       "  released_at    rarity  reprint  edhrec_rank  \\\n",
       "0  1993-08-05  uncommon    False      26957.0   \n",
       "1  1993-08-05      rare    False        478.0   \n",
       "2  1993-08-05    common    False      14350.0   \n",
       "3  1993-08-05  uncommon    False      23321.0   \n",
       "4  1993-08-05    common    False      16502.0   \n",
       "\n",
       "                                          legalities  cmc      eur  \\\n",
       "0  {'standard': 'not_legal', 'future': 'not_legal...  4.0   232.12   \n",
       "1  {'standard': 'not_legal', 'future': 'not_legal...  0.0  3273.87   \n",
       "2  {'standard': 'not_legal', 'future': 'not_legal...  1.0    16.08   \n",
       "3  {'standard': 'not_legal', 'future': 'not_legal...  1.0    35.67   \n",
       "4  {'standard': 'not_legal', 'future': 'not_legal...  2.0    83.90   \n",
       "\n",
       "   release_year  \n",
       "0          1993  \n",
       "1          1993  \n",
       "2          1993  \n",
       "3          1993  \n",
       "4          1993  "
      ]
     },
     "execution_count": 3,
     "metadata": {},
     "output_type": "execute_result"
    }
   ],
   "source": [
    "# Primer dataset\n",
    "df_1.head()"
   ]
  },
  {
   "cell_type": "code",
   "execution_count": 4,
   "metadata": {},
   "outputs": [
    {
     "data": {
      "application/vnd.microsoft.datawrangler.viewer.v0+json": {
       "columns": [
        {
         "name": "index",
         "rawType": "int64",
         "type": "integer"
        },
        {
         "name": "Deck Name",
         "rawType": "object",
         "type": "string"
        },
        {
         "name": "Card Name",
         "rawType": "object",
         "type": "string"
        }
       ],
       "conversionMethod": "pd.DataFrame",
       "ref": "df995801-e0b3-4e01-9aae-97476c2c08e1",
       "rows": [
        [
         "0",
         "1 Kinnan, Bonder Prodigy",
         "Ancient Tomb"
        ],
        [
         "1",
         "1 Kinnan, Bonder Prodigy",
         "Arcane Signet"
        ],
        [
         "2",
         "1 Kinnan, Bonder Prodigy",
         "Archdruid's Charm"
        ],
        [
         "3",
         "1 Kinnan, Bonder Prodigy",
         "Basalt Monolith"
        ],
        [
         "4",
         "1 Kinnan, Bonder Prodigy",
         "Birds of Paradise"
        ]
       ],
       "shape": {
        "columns": 2,
        "rows": 5
       }
      },
      "text/html": [
       "<div>\n",
       "<style scoped>\n",
       "    .dataframe tbody tr th:only-of-type {\n",
       "        vertical-align: middle;\n",
       "    }\n",
       "\n",
       "    .dataframe tbody tr th {\n",
       "        vertical-align: top;\n",
       "    }\n",
       "\n",
       "    .dataframe thead th {\n",
       "        text-align: right;\n",
       "    }\n",
       "</style>\n",
       "<table border=\"1\" class=\"dataframe\">\n",
       "  <thead>\n",
       "    <tr style=\"text-align: right;\">\n",
       "      <th></th>\n",
       "      <th>Deck Name</th>\n",
       "      <th>Card Name</th>\n",
       "    </tr>\n",
       "  </thead>\n",
       "  <tbody>\n",
       "    <tr>\n",
       "      <th>0</th>\n",
       "      <td>1 Kinnan, Bonder Prodigy</td>\n",
       "      <td>Ancient Tomb</td>\n",
       "    </tr>\n",
       "    <tr>\n",
       "      <th>1</th>\n",
       "      <td>1 Kinnan, Bonder Prodigy</td>\n",
       "      <td>Arcane Signet</td>\n",
       "    </tr>\n",
       "    <tr>\n",
       "      <th>2</th>\n",
       "      <td>1 Kinnan, Bonder Prodigy</td>\n",
       "      <td>Archdruid's Charm</td>\n",
       "    </tr>\n",
       "    <tr>\n",
       "      <th>3</th>\n",
       "      <td>1 Kinnan, Bonder Prodigy</td>\n",
       "      <td>Basalt Monolith</td>\n",
       "    </tr>\n",
       "    <tr>\n",
       "      <th>4</th>\n",
       "      <td>1 Kinnan, Bonder Prodigy</td>\n",
       "      <td>Birds of Paradise</td>\n",
       "    </tr>\n",
       "  </tbody>\n",
       "</table>\n",
       "</div>"
      ],
      "text/plain": [
       "                  Deck Name          Card Name\n",
       "0  1 Kinnan, Bonder Prodigy       Ancient Tomb\n",
       "1  1 Kinnan, Bonder Prodigy      Arcane Signet\n",
       "2  1 Kinnan, Bonder Prodigy  Archdruid's Charm\n",
       "3  1 Kinnan, Bonder Prodigy    Basalt Monolith\n",
       "4  1 Kinnan, Bonder Prodigy  Birds of Paradise"
      ]
     },
     "execution_count": 4,
     "metadata": {},
     "output_type": "execute_result"
    }
   ],
   "source": [
    "# Siguiente dataset...\n",
    "df_2.head()"
   ]
  },
  {
   "cell_type": "code",
   "execution_count": 5,
   "metadata": {},
   "outputs": [
    {
     "name": "stderr",
     "output_type": "stream",
     "text": [
      "e:\\AreaTrabajo\\REPO_PRUEBA\\Itsazain_Bilbao_EDA\\src\\edhrec_requests.py:143: FutureWarning: Setting an item of incompatible dtype is deprecated and will raise an error in a future version of pandas. Value 'Land' has dtype incompatible with float64, please explicitly cast to a compatible dtype first.\n",
      "  df_final.at[i, \"type_line\"] = match.iloc[0][\"type_line\"]\n",
      "e:\\AreaTrabajo\\REPO_PRUEBA\\Itsazain_Bilbao_EDA\\src\\edhrec_requests.py:144: FutureWarning: Setting an item of incompatible dtype is deprecated and will raise an error in a future version of pandas. Value 'tmp' has dtype incompatible with float64, please explicitly cast to a compatible dtype first.\n",
      "  df_final.at[i, \"set\"] = match.iloc[0][\"set\"]\n",
      "e:\\AreaTrabajo\\REPO_PRUEBA\\Itsazain_Bilbao_EDA\\src\\edhrec_requests.py:145: FutureWarning: Setting an item of incompatible dtype is deprecated and will raise an error in a future version of pandas. Value '1997-10-14' has dtype incompatible with float64, please explicitly cast to a compatible dtype first.\n",
      "  df_final.at[i, \"released_at\"] = match.iloc[0][\"released_at\"]\n"
     ]
    }
   ],
   "source": [
    "df_2 = edh.añadir_columnas_relevantes(df_1, df_2)"
   ]
  },
  {
   "cell_type": "code",
   "execution_count": 6,
   "metadata": {},
   "outputs": [
    {
     "data": {
      "application/vnd.microsoft.datawrangler.viewer.v0+json": {
       "columns": [
        {
         "name": "index",
         "rawType": "int64",
         "type": "integer"
        },
        {
         "name": "Deck Name",
         "rawType": "object",
         "type": "string"
        },
        {
         "name": "Card Name",
         "rawType": "object",
         "type": "string"
        },
        {
         "name": "type_line",
         "rawType": "object",
         "type": "unknown"
        },
        {
         "name": "set",
         "rawType": "object",
         "type": "unknown"
        },
        {
         "name": "released_at",
         "rawType": "object",
         "type": "unknown"
        },
        {
         "name": "release_year",
         "rawType": "float64",
         "type": "float"
        },
        {
         "name": "edhrec_rank",
         "rawType": "float64",
         "type": "float"
        }
       ],
       "conversionMethod": "pd.DataFrame",
       "ref": "634ce7ee-572a-488a-91af-b534eeb5637d",
       "rows": [
        [
         "0",
         "1 Kinnan, Bonder Prodigy",
         "Ancient Tomb",
         "Land",
         "tmp",
         "1997-10-14",
         "1997.0",
         "57.0"
        ],
        [
         "1",
         "1 Kinnan, Bonder Prodigy",
         "Arcane Signet",
         "Artifact",
         "eld",
         "2019-10-04",
         "2019.0",
         "3.0"
        ],
        [
         "2",
         "1 Kinnan, Bonder Prodigy",
         "Archdruid's Charm",
         "Instant",
         "pmkm",
         "2024-02-09",
         "2024.0",
         "848.0"
        ],
        [
         "3",
         "1 Kinnan, Bonder Prodigy",
         "Basalt Monolith",
         "Artifact",
         "lea",
         "1993-08-05",
         "1993.0",
         "506.0"
        ],
        [
         "4",
         "1 Kinnan, Bonder Prodigy",
         "Birds of Paradise",
         "Creature — Bird",
         "lea",
         "1993-08-05",
         "1993.0",
         "38.0"
        ],
        [
         "5",
         "1 Kinnan, Bonder Prodigy",
         "Bloom Tender",
         "Creature — Elf Druid",
         "eve",
         "2008-07-25",
         "2008.0",
         "311.0"
        ],
        [
         "6",
         "1 Kinnan, Bonder Prodigy",
         "Boseiju, Who Endures",
         "Legendary Land",
         "neo",
         "2022-02-18",
         "2022.0",
         "80.0"
        ],
        [
         "7",
         "1 Kinnan, Bonder Prodigy",
         "Breeding Pool",
         "Land — Forest Island",
         "dis",
         "2006-05-05",
         "2006.0",
         "71.0"
        ],
        [
         "8",
         "1 Kinnan, Bonder Prodigy",
         "Cephalid Coliseum",
         "Land",
         "ody",
         "2001-10-01",
         "2001.0",
         "1055.0"
        ],
        [
         "9",
         "1 Kinnan, Bonder Prodigy",
         "Chord of Calling",
         "Instant",
         "rav",
         "2005-10-07",
         "2005.0",
         "504.0"
        ],
        [
         "10",
         "1 Kinnan, Bonder Prodigy",
         "Chrome Mox",
         "Artifact",
         "mrd",
         "2003-10-02",
         "2003.0",
         "134.0"
        ],
        [
         "11",
         "1 Kinnan, Bonder Prodigy",
         "City of Brass",
         "Land",
         "arn",
         "1993-12-17",
         "1993.0",
         "98.0"
        ],
        [
         "12",
         "1 Kinnan, Bonder Prodigy",
         "Clever Impersonator",
         "Creature — Shapeshifter",
         "pktk",
         "2014-09-26",
         "2014.0",
         "1347.0"
        ],
        [
         "13",
         "1 Kinnan, Bonder Prodigy",
         "Colossal Skyturtle",
         "Enchantment Creature — Turtle",
         "neo",
         "2022-02-18",
         "2022.0",
         "3345.0"
        ],
        [
         "14",
         "1 Kinnan, Bonder Prodigy",
         "Command Tower",
         "Land",
         "cmd",
         "2011-06-17",
         "2011.0",
         "2.0"
        ],
        [
         "15",
         "1 Kinnan, Bonder Prodigy",
         "Consecrated Sphinx",
         "Creature — Sphinx",
         "mbs",
         "2011-02-04",
         "2011.0",
         "577.0"
        ],
        [
         "16",
         "1 Kinnan, Bonder Prodigy",
         "Copy Artifact",
         "Enchantment",
         "lea",
         "1993-08-05",
         "1993.0",
         "3973.0"
        ],
        [
         "17",
         "1 Kinnan, Bonder Prodigy",
         "Crop Rotation",
         "Instant",
         "ulg",
         "1999-02-15",
         "1999.0",
         "222.0"
        ],
        [
         "18",
         "1 Kinnan, Bonder Prodigy",
         "Cyclonic Rift",
         "Instant",
         "rtr",
         "2012-10-05",
         "2012.0",
         "37.0"
        ],
        [
         "19",
         "1 Kinnan, Bonder Prodigy",
         "Delay",
         "Instant",
         "fut",
         "2007-05-04",
         "2007.0",
         "1238.0"
        ],
        [
         "20",
         "1 Kinnan, Bonder Prodigy",
         "Delighted Halfling",
         "Creature — Halfling Citizen",
         "ltr",
         "2023-06-23",
         "2023.0",
         "175.0"
        ],
        [
         "21",
         "1 Kinnan, Bonder Prodigy",
         "Dispel",
         "Instant",
         "wwk",
         "2010-02-05",
         "2010.0",
         "641.0"
        ],
        [
         "22",
         "1 Kinnan, Bonder Prodigy",
         "Elvish Mystic",
         "Creature — Elf Druid",
         "m14",
         "2013-07-19",
         "2013.0",
         "90.0"
        ],
        [
         "23",
         "1 Kinnan, Bonder Prodigy",
         "Elvish Spirit Guide",
         "Creature — Elf Spirit",
         "all",
         "1996-06-10",
         "1996.0",
         "864.0"
        ],
        [
         "24",
         "1 Kinnan, Bonder Prodigy",
         "Emergence Zone",
         "Land",
         "war",
         "2019-05-03",
         "2019.0",
         "584.0"
        ],
        [
         "25",
         "1 Kinnan, Bonder Prodigy",
         "Endurance",
         "Enchantment",
         "jud",
         "2002-05-27",
         "2002.0",
         "3794.0"
        ],
        [
         "26",
         "1 Kinnan, Bonder Prodigy",
         "Enduring Vitality",
         "Enchantment Creature — Elk Glimmer",
         "dsk",
         "2024-09-27",
         "2024.0",
         "1131.0"
        ],
        [
         "27",
         "1 Kinnan, Bonder Prodigy",
         "Fabricate",
         "Sorcery",
         "mrd",
         "2003-10-02",
         "2003.0",
         "449.0"
        ],
        [
         "28",
         "1 Kinnan, Bonder Prodigy",
         "Fellwar Stone",
         "Artifact",
         "drk",
         "1994-08-01",
         "1994.0",
         "18.0"
        ],
        [
         "29",
         "1 Kinnan, Bonder Prodigy",
         "Fierce Guardianship",
         "Instant",
         "c20",
         "2020-04-17",
         "2020.0",
         "73.0"
        ],
        [
         "30",
         "1 Kinnan, Bonder Prodigy",
         "Finale of Devastation",
         "Sorcery",
         "pwar",
         "2019-05-03",
         "2019.0",
         "289.0"
        ],
        [
         "31",
         "1 Kinnan, Bonder Prodigy",
         "Flooded Strand",
         "Land",
         "ons",
         "2002-10-07",
         "2002.0",
         "51.0"
        ],
        [
         "32",
         "1 Kinnan, Bonder Prodigy",
         "Flusterstorm",
         "Instant",
         "cmd",
         "2011-06-17",
         "2011.0",
         "327.0"
        ],
        [
         "33",
         "1 Kinnan, Bonder Prodigy",
         "Force of Negation",
         "Instant",
         "mh1",
         "2019-06-14",
         "2019.0",
         "246.0"
        ],
        [
         "34",
         "1 Kinnan, Bonder Prodigy",
         "Force of Vigor",
         "Instant",
         "mh1",
         "2019-06-14",
         "2019.0",
         "957.0"
        ],
        [
         "35",
         "1 Kinnan, Bonder Prodigy",
         "Force of Will",
         "Instant",
         "all",
         "1996-06-10",
         "1996.0",
         "171.0"
        ],
        [
         "37",
         "1 Kinnan, Bonder Prodigy",
         "Fyndhorn Elves",
         "Creature — Elf Druid",
         "ice",
         "1995-06-03",
         "1995.0",
         "156.0"
        ],
        [
         "38",
         "1 Kinnan, Bonder Prodigy",
         "Gaea's Cradle",
         "Legendary Land",
         "jgp",
         "1998-01-01",
         "1998.0",
         "491.0"
        ],
        [
         "39",
         "1 Kinnan, Bonder Prodigy",
         "Gemstone Caverns",
         "Legendary Land",
         "tsp",
         "2006-10-06",
         "2006.0",
         "195.0"
        ],
        [
         "40",
         "1 Kinnan, Bonder Prodigy",
         "Glen Elendra Archmage",
         "Creature — Faerie Wizard",
         "eve",
         "2008-07-25",
         "2008.0",
         "1357.0"
        ],
        [
         "41",
         "1 Kinnan, Bonder Prodigy",
         "Green Sun's Zenith",
         "Sorcery",
         "mbs",
         "2011-02-04",
         "2011.0",
         "496.0"
        ],
        [
         "42",
         "1 Kinnan, Bonder Prodigy",
         "Grim Monolith",
         "Artifact",
         "ulg",
         "1999-02-15",
         "1999.0",
         "700.0"
        ],
        [
         "43",
         "1 Kinnan, Bonder Prodigy",
         "High Fae Trickster",
         "Creature — Faerie Wizard",
         "pfdn",
         "2024-11-15",
         "2024.0",
         "3337.0"
        ],
        [
         "44",
         "1 Kinnan, Bonder Prodigy",
         "Hullbreaker Horror",
         "Creature — Kraken Horror",
         "pvow",
         "2021-11-19",
         "2021.0",
         "315.0"
        ],
        [
         "45",
         "1 Kinnan, Bonder Prodigy",
         "Hydroelectric Specimen",
         "Creature — Weird // Land",
         "mh3",
         "2024-06-14",
         "2024.0",
         "1282.0"
        ],
        [
         "47",
         "1 Kinnan, Bonder Prodigy",
         "Llanowar Elves",
         "Creature — Elf Druid",
         "lea",
         "1993-08-05",
         "1993.0",
         "61.0"
        ],
        [
         "48",
         "1 Kinnan, Bonder Prodigy",
         "Lotus Petal",
         "Artifact",
         "tmp",
         "1997-10-14",
         "1997.0",
         "115.0"
        ],
        [
         "49",
         "1 Kinnan, Bonder Prodigy",
         "Mana Confluence",
         "Land",
         "jou",
         "2014-05-02",
         "2014.0",
         "110.0"
        ],
        [
         "50",
         "1 Kinnan, Bonder Prodigy",
         "Mana Drain",
         "Instant",
         "leg",
         "1994-06-01",
         "1994.0",
         "107.0"
        ],
        [
         "51",
         "1 Kinnan, Bonder Prodigy",
         "Mana Vault",
         "Artifact",
         "lea",
         "1993-08-05",
         "1993.0",
         "133.0"
        ]
       ],
       "shape": {
        "columns": 7,
        "rows": 1077
       }
      },
      "text/html": [
       "<div>\n",
       "<style scoped>\n",
       "    .dataframe tbody tr th:only-of-type {\n",
       "        vertical-align: middle;\n",
       "    }\n",
       "\n",
       "    .dataframe tbody tr th {\n",
       "        vertical-align: top;\n",
       "    }\n",
       "\n",
       "    .dataframe thead th {\n",
       "        text-align: right;\n",
       "    }\n",
       "</style>\n",
       "<table border=\"1\" class=\"dataframe\">\n",
       "  <thead>\n",
       "    <tr style=\"text-align: right;\">\n",
       "      <th></th>\n",
       "      <th>Deck Name</th>\n",
       "      <th>Card Name</th>\n",
       "      <th>type_line</th>\n",
       "      <th>set</th>\n",
       "      <th>released_at</th>\n",
       "      <th>release_year</th>\n",
       "      <th>edhrec_rank</th>\n",
       "    </tr>\n",
       "  </thead>\n",
       "  <tbody>\n",
       "    <tr>\n",
       "      <th>0</th>\n",
       "      <td>1 Kinnan, Bonder Prodigy</td>\n",
       "      <td>Ancient Tomb</td>\n",
       "      <td>Land</td>\n",
       "      <td>tmp</td>\n",
       "      <td>1997-10-14</td>\n",
       "      <td>1997.0</td>\n",
       "      <td>57.0</td>\n",
       "    </tr>\n",
       "    <tr>\n",
       "      <th>1</th>\n",
       "      <td>1 Kinnan, Bonder Prodigy</td>\n",
       "      <td>Arcane Signet</td>\n",
       "      <td>Artifact</td>\n",
       "      <td>eld</td>\n",
       "      <td>2019-10-04</td>\n",
       "      <td>2019.0</td>\n",
       "      <td>3.0</td>\n",
       "    </tr>\n",
       "    <tr>\n",
       "      <th>2</th>\n",
       "      <td>1 Kinnan, Bonder Prodigy</td>\n",
       "      <td>Archdruid's Charm</td>\n",
       "      <td>Instant</td>\n",
       "      <td>pmkm</td>\n",
       "      <td>2024-02-09</td>\n",
       "      <td>2024.0</td>\n",
       "      <td>848.0</td>\n",
       "    </tr>\n",
       "    <tr>\n",
       "      <th>3</th>\n",
       "      <td>1 Kinnan, Bonder Prodigy</td>\n",
       "      <td>Basalt Monolith</td>\n",
       "      <td>Artifact</td>\n",
       "      <td>lea</td>\n",
       "      <td>1993-08-05</td>\n",
       "      <td>1993.0</td>\n",
       "      <td>506.0</td>\n",
       "    </tr>\n",
       "    <tr>\n",
       "      <th>4</th>\n",
       "      <td>1 Kinnan, Bonder Prodigy</td>\n",
       "      <td>Birds of Paradise</td>\n",
       "      <td>Creature — Bird</td>\n",
       "      <td>lea</td>\n",
       "      <td>1993-08-05</td>\n",
       "      <td>1993.0</td>\n",
       "      <td>38.0</td>\n",
       "    </tr>\n",
       "    <tr>\n",
       "      <th>...</th>\n",
       "      <td>...</td>\n",
       "      <td>...</td>\n",
       "      <td>...</td>\n",
       "      <td>...</td>\n",
       "      <td>...</td>\n",
       "      <td>...</td>\n",
       "      <td>...</td>\n",
       "    </tr>\n",
       "    <tr>\n",
       "      <th>1093</th>\n",
       "      <td>1 Kinnan, Bonder Prodigy</td>\n",
       "      <td>Thorn Mammoth</td>\n",
       "      <td>Creature — Elephant</td>\n",
       "      <td>eld</td>\n",
       "      <td>2019-10-04</td>\n",
       "      <td>2019.0</td>\n",
       "      <td>4853.0</td>\n",
       "    </tr>\n",
       "    <tr>\n",
       "      <th>1094</th>\n",
       "      <td>1 Kinnan, Bonder Prodigy</td>\n",
       "      <td>Trinisphere</td>\n",
       "      <td>Artifact</td>\n",
       "      <td>dst</td>\n",
       "      <td>2004-02-06</td>\n",
       "      <td>2004.0</td>\n",
       "      <td>3697.0</td>\n",
       "    </tr>\n",
       "    <tr>\n",
       "      <th>1095</th>\n",
       "      <td>1 Kinnan, Bonder Prodigy</td>\n",
       "      <td>Veil of Summer</td>\n",
       "      <td>Instant</td>\n",
       "      <td>m20</td>\n",
       "      <td>2019-07-12</td>\n",
       "      <td>2019.0</td>\n",
       "      <td>492.0</td>\n",
       "    </tr>\n",
       "    <tr>\n",
       "      <th>1096</th>\n",
       "      <td>1 Kinnan, Bonder Prodigy</td>\n",
       "      <td>Verity Circle</td>\n",
       "      <td>Enchantment</td>\n",
       "      <td>rna</td>\n",
       "      <td>2019-01-25</td>\n",
       "      <td>2019.0</td>\n",
       "      <td>3543.0</td>\n",
       "    </tr>\n",
       "    <tr>\n",
       "      <th>1097</th>\n",
       "      <td>1 Kinnan, Bonder Prodigy</td>\n",
       "      <td>Void Winnower</td>\n",
       "      <td>Creature — Eldrazi</td>\n",
       "      <td>pbfz</td>\n",
       "      <td>2015-10-02</td>\n",
       "      <td>2015.0</td>\n",
       "      <td>1275.0</td>\n",
       "    </tr>\n",
       "  </tbody>\n",
       "</table>\n",
       "<p>1077 rows × 7 columns</p>\n",
       "</div>"
      ],
      "text/plain": [
       "                     Deck Name          Card Name            type_line   set  \\\n",
       "0     1 Kinnan, Bonder Prodigy       Ancient Tomb                 Land   tmp   \n",
       "1     1 Kinnan, Bonder Prodigy      Arcane Signet             Artifact   eld   \n",
       "2     1 Kinnan, Bonder Prodigy  Archdruid's Charm              Instant  pmkm   \n",
       "3     1 Kinnan, Bonder Prodigy    Basalt Monolith             Artifact   lea   \n",
       "4     1 Kinnan, Bonder Prodigy  Birds of Paradise      Creature — Bird   lea   \n",
       "...                        ...                ...                  ...   ...   \n",
       "1093  1 Kinnan, Bonder Prodigy      Thorn Mammoth  Creature — Elephant   eld   \n",
       "1094  1 Kinnan, Bonder Prodigy        Trinisphere             Artifact   dst   \n",
       "1095  1 Kinnan, Bonder Prodigy     Veil of Summer              Instant   m20   \n",
       "1096  1 Kinnan, Bonder Prodigy      Verity Circle          Enchantment   rna   \n",
       "1097  1 Kinnan, Bonder Prodigy      Void Winnower   Creature — Eldrazi  pbfz   \n",
       "\n",
       "     released_at  release_year  edhrec_rank  \n",
       "0     1997-10-14        1997.0         57.0  \n",
       "1     2019-10-04        2019.0          3.0  \n",
       "2     2024-02-09        2024.0        848.0  \n",
       "3     1993-08-05        1993.0        506.0  \n",
       "4     1993-08-05        1993.0         38.0  \n",
       "...          ...           ...          ...  \n",
       "1093  2019-10-04        2019.0       4853.0  \n",
       "1094  2004-02-06        2004.0       3697.0  \n",
       "1095  2019-07-12        2019.0        492.0  \n",
       "1096  2019-01-25        2019.0       3543.0  \n",
       "1097  2015-10-02        2015.0       1275.0  \n",
       "\n",
       "[1077 rows x 7 columns]"
      ]
     },
     "execution_count": 6,
     "metadata": {},
     "output_type": "execute_result"
    }
   ],
   "source": [
    "df_2"
   ]
  },
  {
   "cell_type": "code",
   "execution_count": 20,
   "metadata": {},
   "outputs": [
    {
     "data": {
      "image/png": "[encoded data removed]",
      "text/plain": [
       "<Figure size 3000x1500 with 1 Axes>"
      ]
     },
     "metadata": {},
     "output_type": "display_data"
    }
   ],
   "source": [
    "#Prueba 1 de visualización\n",
    "\n",
    "set_counts = df_2.groupby([\"set\", \"released_at\"]).size().reset_index(name=\"count\").sort_values(by=\"released_at\")\n",
    "plt.figure(figsize=(30,15))\n",
    "sns.barplot(data=set_counts, x=\"released_at\", y=\"count\", hue=\"set\", dodge=False, legend=False)\n",
    "plt.xticks(rotation = 45, fontsize=10, ha=\"right\", position=(0,0));\n"
   ]
  },
  {
   "cell_type": "code",
   "execution_count": 10,
   "metadata": {},
   "outputs": [],
   "source": [
    "df_visu2 = df_2.copy()"
   ]
  },
  {
   "cell_type": "code",
   "execution_count": 18,
   "metadata": {},
   "outputs": [
    {
     "data": {
      "image/png": "[encoded data removed]",
      "text/plain": [
       "<Figure size 640x480 with 1 Axes>"
      ]
     },
     "metadata": {},
     "output_type": "display_data"
    }
   ],
   "source": [
    "#Prueba 2 de Visualización\n",
    "\n",
    "df_por_years = df_visu2.groupby([\"release_year\", \"set\"]).size().reset_index(name=\"count\")\n",
    "\n",
    "sns.barplot(data=df_por_years, x=\"release_year\", y=\"count\", hue=\"set\", dodge=False, palette=\"Set2\", legend=False)\n",
    "\n",
    "plt.grid(axis='y', linestyle=\"--\", alpha=0.7)\n",
    "plt.xticks(rotation=45, ha=\"right\")\n",
    "\n",
    "plt.show();"
   ]
  },
  {
   "cell_type": "code",
   "execution_count": null,
   "metadata": {},
   "outputs": [],
   "source": []
  }
 ],
 "metadata": {
  "kernelspec": {
   "display_name": "Python 3",
   "language": "python",
   "name": "python3"
  },
  "language_info": {
   "codemirror_mode": {
    "name": "ipython",
    "version": 3
   },
   "file_extension": ".py",
   "mimetype": "text/x-python",
   "name": "python",
   "nbconvert_exporter": "python",
   "pygments_lexer": "ipython3",
   "version": "3.11.9"
  },
  "orig_nbformat": 4
 },
 "nbformat": 4,
 "nbformat_minor": 2
}
