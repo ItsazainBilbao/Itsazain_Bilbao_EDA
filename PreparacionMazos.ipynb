{
 "cells": [
  {
   "cell_type": "code",
   "execution_count": 1,
   "metadata": {},
   "outputs": [],
   "source": [
    "import seaborn as sns\n",
    "import pandas as pd\n",
    "import numpy as np\n",
    "import matplotlib.pyplot as plt\n",
    "from src import edhrec_requests as edh\n",
    "from src import funciones"
   ]
  },
  {
   "cell_type": "code",
   "execution_count": 2,
   "metadata": {},
   "outputs": [
    {
     "data": {
      "application/vnd.microsoft.datawrangler.viewer.v0+json": {
       "columns": [
        {
         "name": "index",
         "rawType": "int64",
         "type": "integer"
        },
        {
         "name": "Deck Name",
         "rawType": "object",
         "type": "string"
        },
        {
         "name": "Card Name",
         "rawType": "object",
         "type": "string"
        }
       ],
       "conversionMethod": "pd.DataFrame",
       "ref": "d1c44ba1-4845-425f-b912-35babe8bbe1c",
       "rows": [
        [
         "0",
         "1 Kinnan, Bonder Prodigy",
         "Ancient Tomb"
        ],
        [
         "1",
         "1 Kinnan, Bonder Prodigy",
         "Arcane Signet"
        ],
        [
         "2",
         "1 Kinnan, Bonder Prodigy",
         "Archdruid's Charm"
        ],
        [
         "3",
         "1 Kinnan, Bonder Prodigy",
         "Basalt Monolith"
        ],
        [
         "4",
         "1 Kinnan, Bonder Prodigy",
         "Birds of Paradise"
        ],
        [
         "5",
         "1 Kinnan, Bonder Prodigy",
         "Bloom Tender"
        ],
        [
         "6",
         "1 Kinnan, Bonder Prodigy",
         "Boseiju, Who Endures"
        ],
        [
         "7",
         "1 Kinnan, Bonder Prodigy",
         "Breeding Pool"
        ],
        [
         "8",
         "1 Kinnan, Bonder Prodigy",
         "Cephalid Coliseum"
        ],
        [
         "9",
         "1 Kinnan, Bonder Prodigy",
         "Chord of Calling"
        ],
        [
         "10",
         "1 Kinnan, Bonder Prodigy",
         "Chrome Mox"
        ],
        [
         "11",
         "1 Kinnan, Bonder Prodigy",
         "City of Brass"
        ],
        [
         "12",
         "1 Kinnan, Bonder Prodigy",
         "Clever Impersonator"
        ],
        [
         "13",
         "1 Kinnan, Bonder Prodigy",
         "Colossal Skyturtle"
        ],
        [
         "14",
         "1 Kinnan, Bonder Prodigy",
         "Command Tower"
        ],
        [
         "15",
         "1 Kinnan, Bonder Prodigy",
         "Consecrated Sphinx"
        ],
        [
         "16",
         "1 Kinnan, Bonder Prodigy",
         "Copy Artifact"
        ],
        [
         "17",
         "1 Kinnan, Bonder Prodigy",
         "Crop Rotation"
        ],
        [
         "18",
         "1 Kinnan, Bonder Prodigy",
         "Cyclonic Rift"
        ],
        [
         "19",
         "1 Kinnan, Bonder Prodigy",
         "Delay"
        ],
        [
         "20",
         "1 Kinnan, Bonder Prodigy",
         "Delighted Halfling"
        ],
        [
         "21",
         "1 Kinnan, Bonder Prodigy",
         "Dispel"
        ],
        [
         "22",
         "1 Kinnan, Bonder Prodigy",
         "Elvish Mystic"
        ],
        [
         "23",
         "1 Kinnan, Bonder Prodigy",
         "Elvish Spirit Guide"
        ],
        [
         "24",
         "1 Kinnan, Bonder Prodigy",
         "Emergence Zone"
        ],
        [
         "25",
         "1 Kinnan, Bonder Prodigy",
         "Endurance"
        ],
        [
         "26",
         "1 Kinnan, Bonder Prodigy",
         "Enduring Vitality"
        ],
        [
         "27",
         "1 Kinnan, Bonder Prodigy",
         "Fabricate"
        ],
        [
         "28",
         "1 Kinnan, Bonder Prodigy",
         "Fellwar Stone"
        ],
        [
         "29",
         "1 Kinnan, Bonder Prodigy",
         "Fierce Guardianship"
        ],
        [
         "30",
         "1 Kinnan, Bonder Prodigy",
         "Finale of Devastation"
        ],
        [
         "31",
         "1 Kinnan, Bonder Prodigy",
         "Flooded Strand"
        ],
        [
         "32",
         "1 Kinnan, Bonder Prodigy",
         "Flusterstorm"
        ],
        [
         "33",
         "1 Kinnan, Bonder Prodigy",
         "Force of Negation"
        ],
        [
         "34",
         "1 Kinnan, Bonder Prodigy",
         "Force of Vigor"
        ],
        [
         "35",
         "1 Kinnan, Bonder Prodigy",
         "Force of Will"
        ],
        [
         "36",
         "1 Kinnan, Bonder Prodigy",
         "Forest"
        ],
        [
         "37",
         "1 Kinnan, Bonder Prodigy",
         "Fyndhorn Elves"
        ],
        [
         "38",
         "1 Kinnan, Bonder Prodigy",
         "Gaea's Cradle"
        ],
        [
         "39",
         "1 Kinnan, Bonder Prodigy",
         "Gemstone Caverns"
        ],
        [
         "40",
         "1 Kinnan, Bonder Prodigy",
         "Glen Elendra Archmage"
        ],
        [
         "41",
         "1 Kinnan, Bonder Prodigy",
         "Green Sun's Zenith"
        ],
        [
         "42",
         "1 Kinnan, Bonder Prodigy",
         "Grim Monolith"
        ],
        [
         "43",
         "1 Kinnan, Bonder Prodigy",
         "High Fae Trickster"
        ],
        [
         "44",
         "1 Kinnan, Bonder Prodigy",
         "Hullbreaker Horror"
        ],
        [
         "45",
         "1 Kinnan, Bonder Prodigy",
         "Hydroelectric Specimen"
        ],
        [
         "46",
         "1 Kinnan, Bonder Prodigy",
         "Island"
        ],
        [
         "47",
         "1 Kinnan, Bonder Prodigy",
         "Llanowar Elves"
        ],
        [
         "48",
         "1 Kinnan, Bonder Prodigy",
         "Lotus Petal"
        ],
        [
         "49",
         "1 Kinnan, Bonder Prodigy",
         "Mana Confluence"
        ]
       ],
       "shape": {
        "columns": 2,
        "rows": 1088
       }
      },
      "text/html": [
       "<div>\n",
       "<style scoped>\n",
       "    .dataframe tbody tr th:only-of-type {\n",
       "        vertical-align: middle;\n",
       "    }\n",
       "\n",
       "    .dataframe tbody tr th {\n",
       "        vertical-align: top;\n",
       "    }\n",
       "\n",
       "    .dataframe thead th {\n",
       "        text-align: right;\n",
       "    }\n",
       "</style>\n",
       "<table border=\"1\" class=\"dataframe\">\n",
       "  <thead>\n",
       "    <tr style=\"text-align: right;\">\n",
       "      <th></th>\n",
       "      <th>Deck Name</th>\n",
       "      <th>Card Name</th>\n",
       "    </tr>\n",
       "  </thead>\n",
       "  <tbody>\n",
       "    <tr>\n",
       "      <th>0</th>\n",
       "      <td>1 Kinnan, Bonder Prodigy</td>\n",
       "      <td>Ancient Tomb</td>\n",
       "    </tr>\n",
       "    <tr>\n",
       "      <th>1</th>\n",
       "      <td>1 Kinnan, Bonder Prodigy</td>\n",
       "      <td>Arcane Signet</td>\n",
       "    </tr>\n",
       "    <tr>\n",
       "      <th>2</th>\n",
       "      <td>1 Kinnan, Bonder Prodigy</td>\n",
       "      <td>Archdruid's Charm</td>\n",
       "    </tr>\n",
       "    <tr>\n",
       "      <th>3</th>\n",
       "      <td>1 Kinnan, Bonder Prodigy</td>\n",
       "      <td>Basalt Monolith</td>\n",
       "    </tr>\n",
       "    <tr>\n",
       "      <th>4</th>\n",
       "      <td>1 Kinnan, Bonder Prodigy</td>\n",
       "      <td>Birds of Paradise</td>\n",
       "    </tr>\n",
       "    <tr>\n",
       "      <th>...</th>\n",
       "      <td>...</td>\n",
       "      <td>...</td>\n",
       "    </tr>\n",
       "    <tr>\n",
       "      <th>1083</th>\n",
       "      <td>1 Kinnan, Bonder Prodigy</td>\n",
       "      <td>Thorn Mammoth</td>\n",
       "    </tr>\n",
       "    <tr>\n",
       "      <th>1084</th>\n",
       "      <td>1 Kinnan, Bonder Prodigy</td>\n",
       "      <td>Trinisphere</td>\n",
       "    </tr>\n",
       "    <tr>\n",
       "      <th>1085</th>\n",
       "      <td>1 Kinnan, Bonder Prodigy</td>\n",
       "      <td>Veil of Summer</td>\n",
       "    </tr>\n",
       "    <tr>\n",
       "      <th>1086</th>\n",
       "      <td>1 Kinnan, Bonder Prodigy</td>\n",
       "      <td>Verity Circle</td>\n",
       "    </tr>\n",
       "    <tr>\n",
       "      <th>1087</th>\n",
       "      <td>1 Kinnan, Bonder Prodigy</td>\n",
       "      <td>Void Winnower</td>\n",
       "    </tr>\n",
       "  </tbody>\n",
       "</table>\n",
       "<p>1088 rows × 2 columns</p>\n",
       "</div>"
      ],
      "text/plain": [
       "                     Deck Name          Card Name\n",
       "0     1 Kinnan, Bonder Prodigy       Ancient Tomb\n",
       "1     1 Kinnan, Bonder Prodigy      Arcane Signet\n",
       "2     1 Kinnan, Bonder Prodigy  Archdruid's Charm\n",
       "3     1 Kinnan, Bonder Prodigy    Basalt Monolith\n",
       "4     1 Kinnan, Bonder Prodigy  Birds of Paradise\n",
       "...                        ...                ...\n",
       "1083  1 Kinnan, Bonder Prodigy      Thorn Mammoth\n",
       "1084  1 Kinnan, Bonder Prodigy        Trinisphere\n",
       "1085  1 Kinnan, Bonder Prodigy     Veil of Summer\n",
       "1086  1 Kinnan, Bonder Prodigy      Verity Circle\n",
       "1087  1 Kinnan, Bonder Prodigy      Void Winnower\n",
       "\n",
       "[1088 rows x 2 columns]"
      ]
     },
     "execution_count": 2,
     "metadata": {},
     "output_type": "execute_result"
    }
   ],
   "source": [
    "#Cargamos un folder con mazos diferentes para el análisis\n",
    "df = edh.load_decks_from_folder3(\"mazos/kinnan\")\n",
    "\n",
    "df"
   ]
  },
  {
   "cell_type": "code",
   "execution_count": 3,
   "metadata": {},
   "outputs": [],
   "source": [
    "#Cargamos la base de datos de cartas\n",
    "df_bd = pd.read_csv(\"cartas_limpiadas.csv\")"
   ]
  },
  {
   "cell_type": "code",
   "execution_count": 4,
   "metadata": {},
   "outputs": [
    {
     "name": "stderr",
     "output_type": "stream",
     "text": [
      "e:\\AreaTrabajo\\REPO_PRUEBA\\Itsazain_Bilbao_EDA\\src\\edhrec_requests.py:143: FutureWarning: Setting an item of incompatible dtype is deprecated and will raise an error in a future version of pandas. Value 'Land' has dtype incompatible with float64, please explicitly cast to a compatible dtype first.\n",
      "  df_final.at[i, \"type_line\"] = match.iloc[0][\"type_line\"]\n",
      "e:\\AreaTrabajo\\REPO_PRUEBA\\Itsazain_Bilbao_EDA\\src\\edhrec_requests.py:144: FutureWarning: Setting an item of incompatible dtype is deprecated and will raise an error in a future version of pandas. Value 'tmp' has dtype incompatible with float64, please explicitly cast to a compatible dtype first.\n",
      "  df_final.at[i, \"set\"] = match.iloc[0][\"set\"]\n",
      "e:\\AreaTrabajo\\REPO_PRUEBA\\Itsazain_Bilbao_EDA\\src\\edhrec_requests.py:145: FutureWarning: Setting an item of incompatible dtype is deprecated and will raise an error in a future version of pandas. Value '1997-10-14' has dtype incompatible with float64, please explicitly cast to a compatible dtype first.\n",
      "  df_final.at[i, \"released_at\"] = match.iloc[0][\"released_at\"]\n"
     ]
    },
    {
     "name": "stdout",
     "output_type": "stream",
     "text": [
      "<class 'pandas.core.frame.DataFrame'>\n",
      "Index: 1067 entries, 0 to 1087\n",
      "Data columns (total 7 columns):\n",
      " #   Column        Non-Null Count  Dtype  \n",
      "---  ------        --------------  -----  \n",
      " 0   Deck Name     1067 non-null   object \n",
      " 1   Card Name     1067 non-null   object \n",
      " 2   type_line     1062 non-null   object \n",
      " 3   set           1062 non-null   object \n",
      " 4   released_at   1062 non-null   object \n",
      " 5   release_year  1062 non-null   float64\n",
      " 6   edhrec_rank   1062 non-null   float64\n",
      "dtypes: float64(2), object(5)\n",
      "memory usage: 99.0+ KB\n"
     ]
    },
    {
     "data": {
      "application/vnd.microsoft.datawrangler.viewer.v0+json": {
       "columns": [
        {
         "name": "index",
         "rawType": "int64",
         "type": "integer"
        },
        {
         "name": "Deck Name",
         "rawType": "object",
         "type": "string"
        },
        {
         "name": "Card Name",
         "rawType": "object",
         "type": "string"
        },
        {
         "name": "type_line",
         "rawType": "object",
         "type": "string"
        },
        {
         "name": "set",
         "rawType": "object",
         "type": "string"
        },
        {
         "name": "released_at",
         "rawType": "object",
         "type": "string"
        },
        {
         "name": "release_year",
         "rawType": "float64",
         "type": "float"
        },
        {
         "name": "edhrec_rank",
         "rawType": "float64",
         "type": "float"
        }
       ],
       "conversionMethod": "pd.DataFrame",
       "ref": "15649388-73fc-4a31-ac68-a69864c7e48e",
       "rows": [
        [
         "0",
         "1 Kinnan, Bonder Prodigy",
         "Ancient Tomb",
         "Land",
         "tmp",
         "1997-10-14",
         "1997.0",
         "57.0"
        ],
        [
         "1",
         "1 Kinnan, Bonder Prodigy",
         "Arcane Signet",
         "Artifact",
         "eld",
         "2019-10-04",
         "2019.0",
         "3.0"
        ],
        [
         "2",
         "1 Kinnan, Bonder Prodigy",
         "Archdruid's Charm",
         "Instant",
         "pmkm",
         "2024-02-09",
         "2024.0",
         "848.0"
        ],
        [
         "3",
         "1 Kinnan, Bonder Prodigy",
         "Basalt Monolith",
         "Artifact",
         "lea",
         "1993-08-05",
         "1993.0",
         "506.0"
        ],
        [
         "4",
         "1 Kinnan, Bonder Prodigy",
         "Birds of Paradise",
         "Creature — Bird",
         "lea",
         "1993-08-05",
         "1993.0",
         "38.0"
        ]
       ],
       "shape": {
        "columns": 7,
        "rows": 5
       }
      },
      "text/html": [
       "<div>\n",
       "<style scoped>\n",
       "    .dataframe tbody tr th:only-of-type {\n",
       "        vertical-align: middle;\n",
       "    }\n",
       "\n",
       "    .dataframe tbody tr th {\n",
       "        vertical-align: top;\n",
       "    }\n",
       "\n",
       "    .dataframe thead th {\n",
       "        text-align: right;\n",
       "    }\n",
       "</style>\n",
       "<table border=\"1\" class=\"dataframe\">\n",
       "  <thead>\n",
       "    <tr style=\"text-align: right;\">\n",
       "      <th></th>\n",
       "      <th>Deck Name</th>\n",
       "      <th>Card Name</th>\n",
       "      <th>type_line</th>\n",
       "      <th>set</th>\n",
       "      <th>released_at</th>\n",
       "      <th>release_year</th>\n",
       "      <th>edhrec_rank</th>\n",
       "    </tr>\n",
       "  </thead>\n",
       "  <tbody>\n",
       "    <tr>\n",
       "      <th>0</th>\n",
       "      <td>1 Kinnan, Bonder Prodigy</td>\n",
       "      <td>Ancient Tomb</td>\n",
       "      <td>Land</td>\n",
       "      <td>tmp</td>\n",
       "      <td>1997-10-14</td>\n",
       "      <td>1997.0</td>\n",
       "      <td>57.0</td>\n",
       "    </tr>\n",
       "    <tr>\n",
       "      <th>1</th>\n",
       "      <td>1 Kinnan, Bonder Prodigy</td>\n",
       "      <td>Arcane Signet</td>\n",
       "      <td>Artifact</td>\n",
       "      <td>eld</td>\n",
       "      <td>2019-10-04</td>\n",
       "      <td>2019.0</td>\n",
       "      <td>3.0</td>\n",
       "    </tr>\n",
       "    <tr>\n",
       "      <th>2</th>\n",
       "      <td>1 Kinnan, Bonder Prodigy</td>\n",
       "      <td>Archdruid's Charm</td>\n",
       "      <td>Instant</td>\n",
       "      <td>pmkm</td>\n",
       "      <td>2024-02-09</td>\n",
       "      <td>2024.0</td>\n",
       "      <td>848.0</td>\n",
       "    </tr>\n",
       "    <tr>\n",
       "      <th>3</th>\n",
       "      <td>1 Kinnan, Bonder Prodigy</td>\n",
       "      <td>Basalt Monolith</td>\n",
       "      <td>Artifact</td>\n",
       "      <td>lea</td>\n",
       "      <td>1993-08-05</td>\n",
       "      <td>1993.0</td>\n",
       "      <td>506.0</td>\n",
       "    </tr>\n",
       "    <tr>\n",
       "      <th>4</th>\n",
       "      <td>1 Kinnan, Bonder Prodigy</td>\n",
       "      <td>Birds of Paradise</td>\n",
       "      <td>Creature — Bird</td>\n",
       "      <td>lea</td>\n",
       "      <td>1993-08-05</td>\n",
       "      <td>1993.0</td>\n",
       "      <td>38.0</td>\n",
       "    </tr>\n",
       "  </tbody>\n",
       "</table>\n",
       "</div>"
      ],
      "text/plain": [
       "                  Deck Name          Card Name        type_line   set  \\\n",
       "0  1 Kinnan, Bonder Prodigy       Ancient Tomb             Land   tmp   \n",
       "1  1 Kinnan, Bonder Prodigy      Arcane Signet         Artifact   eld   \n",
       "2  1 Kinnan, Bonder Prodigy  Archdruid's Charm          Instant  pmkm   \n",
       "3  1 Kinnan, Bonder Prodigy    Basalt Monolith         Artifact   lea   \n",
       "4  1 Kinnan, Bonder Prodigy  Birds of Paradise  Creature — Bird   lea   \n",
       "\n",
       "  released_at  release_year  edhrec_rank  \n",
       "0  1997-10-14        1997.0         57.0  \n",
       "1  2019-10-04        2019.0          3.0  \n",
       "2  2024-02-09        2024.0        848.0  \n",
       "3  1993-08-05        1993.0        506.0  \n",
       "4  1993-08-05        1993.0         38.0  "
      ]
     },
     "execution_count": 4,
     "metadata": {},
     "output_type": "execute_result"
    }
   ],
   "source": [
    "#Vamos a añadirle la información relevante\n",
    "df = edh.añadir_columnas_relevantes(df_bd, df)\n",
    "df.info()\n",
    "df.head()"
   ]
  },
  {
   "cell_type": "code",
   "execution_count": 5,
   "metadata": {},
   "outputs": [],
   "source": [
    "#Vamos a mirar los nulos, sospecho que son o cartas que no han sido publicadas o cartas que han sido prohibidas\n",
    "#Esto sucede porque hay mazos de torneos antiguos o de torneos de promoción, lo que puede joderlo un poco\n",
    "#Pero vaya, se eliminan los NAN y listo"
   ]
  },
  {
   "cell_type": "code",
   "execution_count": 6,
   "metadata": {},
   "outputs": [
    {
     "data": {
      "application/vnd.microsoft.datawrangler.viewer.v0+json": {
       "columns": [
        {
         "name": "index",
         "rawType": "int64",
         "type": "integer"
        },
        {
         "name": "Deck Name",
         "rawType": "object",
         "type": "string"
        },
        {
         "name": "Card Name",
         "rawType": "object",
         "type": "string"
        },
        {
         "name": "type_line",
         "rawType": "object",
         "type": "unknown"
        },
        {
         "name": "set",
         "rawType": "object",
         "type": "unknown"
        },
        {
         "name": "released_at",
         "rawType": "object",
         "type": "unknown"
        },
        {
         "name": "release_year",
         "rawType": "float64",
         "type": "float"
        },
        {
         "name": "edhrec_rank",
         "rawType": "float64",
         "type": "float"
        }
       ],
       "conversionMethod": "pd.DataFrame",
       "ref": "fa00f7d1-d92d-448a-a778-ec3dfc32dca7",
       "rows": [
        [
         "158",
         "1 Kinnan, Bonder Prodigy",
         "Mistrise Village",
         null,
         null,
         null,
         null,
         null
        ],
        [
         "165",
         "1 Kinnan, Bonder Prodigy",
         "Nature's Rhythm",
         null,
         null,
         null,
         null,
         null
        ],
        [
         "463",
         "1 Kinnan, Bonder Prodigy",
         "Mistrise Village",
         null,
         null,
         null,
         null,
         null
        ],
        [
         "535",
         "1 Kinnan, Bonder Prodigy",
         "Mana Crypt",
         null,
         null,
         null,
         null,
         null
        ],
        [
         "614",
         "1 Kinnan, Bonder Prodigy",
         "Mana Crypt",
         null,
         null,
         null,
         null,
         null
        ]
       ],
       "shape": {
        "columns": 7,
        "rows": 5
       }
      },
      "text/html": [
       "<div>\n",
       "<style scoped>\n",
       "    .dataframe tbody tr th:only-of-type {\n",
       "        vertical-align: middle;\n",
       "    }\n",
       "\n",
       "    .dataframe tbody tr th {\n",
       "        vertical-align: top;\n",
       "    }\n",
       "\n",
       "    .dataframe thead th {\n",
       "        text-align: right;\n",
       "    }\n",
       "</style>\n",
       "<table border=\"1\" class=\"dataframe\">\n",
       "  <thead>\n",
       "    <tr style=\"text-align: right;\">\n",
       "      <th></th>\n",
       "      <th>Deck Name</th>\n",
       "      <th>Card Name</th>\n",
       "      <th>type_line</th>\n",
       "      <th>set</th>\n",
       "      <th>released_at</th>\n",
       "      <th>release_year</th>\n",
       "      <th>edhrec_rank</th>\n",
       "    </tr>\n",
       "  </thead>\n",
       "  <tbody>\n",
       "    <tr>\n",
       "      <th>158</th>\n",
       "      <td>1 Kinnan, Bonder Prodigy</td>\n",
       "      <td>Mistrise Village</td>\n",
       "      <td>NaN</td>\n",
       "      <td>NaN</td>\n",
       "      <td>NaN</td>\n",
       "      <td>NaN</td>\n",
       "      <td>NaN</td>\n",
       "    </tr>\n",
       "    <tr>\n",
       "      <th>165</th>\n",
       "      <td>1 Kinnan, Bonder Prodigy</td>\n",
       "      <td>Nature's Rhythm</td>\n",
       "      <td>NaN</td>\n",
       "      <td>NaN</td>\n",
       "      <td>NaN</td>\n",
       "      <td>NaN</td>\n",
       "      <td>NaN</td>\n",
       "    </tr>\n",
       "    <tr>\n",
       "      <th>463</th>\n",
       "      <td>1 Kinnan, Bonder Prodigy</td>\n",
       "      <td>Mistrise Village</td>\n",
       "      <td>NaN</td>\n",
       "      <td>NaN</td>\n",
       "      <td>NaN</td>\n",
       "      <td>NaN</td>\n",
       "      <td>NaN</td>\n",
       "    </tr>\n",
       "    <tr>\n",
       "      <th>535</th>\n",
       "      <td>1 Kinnan, Bonder Prodigy</td>\n",
       "      <td>Mana Crypt</td>\n",
       "      <td>NaN</td>\n",
       "      <td>NaN</td>\n",
       "      <td>NaN</td>\n",
       "      <td>NaN</td>\n",
       "      <td>NaN</td>\n",
       "    </tr>\n",
       "    <tr>\n",
       "      <th>614</th>\n",
       "      <td>1 Kinnan, Bonder Prodigy</td>\n",
       "      <td>Mana Crypt</td>\n",
       "      <td>NaN</td>\n",
       "      <td>NaN</td>\n",
       "      <td>NaN</td>\n",
       "      <td>NaN</td>\n",
       "      <td>NaN</td>\n",
       "    </tr>\n",
       "  </tbody>\n",
       "</table>\n",
       "</div>"
      ],
      "text/plain": [
       "                    Deck Name         Card Name type_line  set released_at  \\\n",
       "158  1 Kinnan, Bonder Prodigy  Mistrise Village       NaN  NaN         NaN   \n",
       "165  1 Kinnan, Bonder Prodigy   Nature's Rhythm       NaN  NaN         NaN   \n",
       "463  1 Kinnan, Bonder Prodigy  Mistrise Village       NaN  NaN         NaN   \n",
       "535  1 Kinnan, Bonder Prodigy        Mana Crypt       NaN  NaN         NaN   \n",
       "614  1 Kinnan, Bonder Prodigy        Mana Crypt       NaN  NaN         NaN   \n",
       "\n",
       "     release_year  edhrec_rank  \n",
       "158           NaN          NaN  \n",
       "165           NaN          NaN  \n",
       "463           NaN          NaN  \n",
       "535           NaN          NaN  \n",
       "614           NaN          NaN  "
      ]
     },
     "execution_count": 6,
     "metadata": {},
     "output_type": "execute_result"
    }
   ],
   "source": [
    "df.loc[df[\"type_line\"].isna()]"
   ]
  },
  {
   "cell_type": "code",
   "execution_count": 7,
   "metadata": {},
   "outputs": [
    {
     "name": "stdout",
     "output_type": "stream",
     "text": [
      "<class 'pandas.core.frame.DataFrame'>\n",
      "Index: 1062 entries, 0 to 1087\n",
      "Data columns (total 7 columns):\n",
      " #   Column        Non-Null Count  Dtype  \n",
      "---  ------        --------------  -----  \n",
      " 0   Deck Name     1062 non-null   object \n",
      " 1   Card Name     1062 non-null   object \n",
      " 2   type_line     1062 non-null   object \n",
      " 3   set           1062 non-null   object \n",
      " 4   released_at   1062 non-null   object \n",
      " 5   release_year  1062 non-null   float64\n",
      " 6   edhrec_rank   1062 non-null   float64\n",
      "dtypes: float64(2), object(5)\n",
      "memory usage: 66.4+ KB\n"
     ]
    },
    {
     "data": {
      "application/vnd.microsoft.datawrangler.viewer.v0+json": {
       "columns": [
        {
         "name": "index",
         "rawType": "int64",
         "type": "integer"
        },
        {
         "name": "Deck Name",
         "rawType": "object",
         "type": "string"
        },
        {
         "name": "Card Name",
         "rawType": "object",
         "type": "string"
        },
        {
         "name": "type_line",
         "rawType": "object",
         "type": "string"
        },
        {
         "name": "set",
         "rawType": "object",
         "type": "string"
        },
        {
         "name": "released_at",
         "rawType": "object",
         "type": "string"
        },
        {
         "name": "release_year",
         "rawType": "float64",
         "type": "float"
        },
        {
         "name": "edhrec_rank",
         "rawType": "float64",
         "type": "float"
        }
       ],
       "conversionMethod": "pd.DataFrame",
       "ref": "ed0aef71-0ba3-4a47-95f3-5723106dc8c8",
       "rows": [],
       "shape": {
        "columns": 7,
        "rows": 0
       }
      },
      "text/html": [
       "<div>\n",
       "<style scoped>\n",
       "    .dataframe tbody tr th:only-of-type {\n",
       "        vertical-align: middle;\n",
       "    }\n",
       "\n",
       "    .dataframe tbody tr th {\n",
       "        vertical-align: top;\n",
       "    }\n",
       "\n",
       "    .dataframe thead th {\n",
       "        text-align: right;\n",
       "    }\n",
       "</style>\n",
       "<table border=\"1\" class=\"dataframe\">\n",
       "  <thead>\n",
       "    <tr style=\"text-align: right;\">\n",
       "      <th></th>\n",
       "      <th>Deck Name</th>\n",
       "      <th>Card Name</th>\n",
       "      <th>type_line</th>\n",
       "      <th>set</th>\n",
       "      <th>released_at</th>\n",
       "      <th>release_year</th>\n",
       "      <th>edhrec_rank</th>\n",
       "    </tr>\n",
       "  </thead>\n",
       "  <tbody>\n",
       "  </tbody>\n",
       "</table>\n",
       "</div>"
      ],
      "text/plain": [
       "Empty DataFrame\n",
       "Columns: [Deck Name, Card Name, type_line, set, released_at, release_year, edhrec_rank]\n",
       "Index: []"
      ]
     },
     "execution_count": 7,
     "metadata": {},
     "output_type": "execute_result"
    }
   ],
   "source": [
    "df.dropna(subset=['type_line'], how='all', inplace=True)\n",
    "df.info()\n",
    "df.loc[df[\"type_line\"].isna()]"
   ]
  }
 ],
 "metadata": {
  "kernelspec": {
   "display_name": "Python 3",
   "language": "python",
   "name": "python3"
  },
  "language_info": {
   "codemirror_mode": {
    "name": "ipython",
    "version": 3
   },
   "file_extension": ".py",
   "mimetype": "text/x-python",
   "name": "python",
   "nbconvert_exporter": "python",
   "pygments_lexer": "ipython3",
   "version": "3.11.9"
  }
 },
 "nbformat": 4,
 "nbformat_minor": 2
}
